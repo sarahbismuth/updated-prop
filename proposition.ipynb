{
 "cells": [
  {
   "cell_type": "markdown",
   "metadata": {},
   "source": [
    "# Introduction "
   ]
  },
  {
   "cell_type": "markdown",
   "metadata": {},
   "source": [
    "Heart failure is a chronic, progressive condition in which the heart muscle is unable to pump enough blood to meet the body’s needs for blood and oxygen. Basically, the heart can’t keep up with its workload.\n",
    "Heart disease is the leading cause of death for men, women, and people of most racial and ethnic groups in the United States.About 647,000 Americans die from heart disease each year—that’s 1 in every 4 deaths.\n",
    "However, Heart desease can be prevent, indeed Preventing heart disease  means making smart choices now that will pay off the rest of your life.This means living a healthy lifestyle, that can help  you keep your blood pressure, cholesterol, and blood sugar levels normal and thus, lower your risk for heart disease and heart attack.\n",
    "Moreover, this prevention can and should be monitored by doctors to prevent fatality and death."
   ]
  },
  {
   "cell_type": "markdown",
   "metadata": {},
   "source": [
    "REFERENCES:\n",
    "https://www.cdc.gov/heartdisease/facts.htm#:~:text=Heart%20Disease%20in%20the%20United%20States&text=About%20647%2C000%20Americans%20die%20from,1%20in%20every%204%20deaths.&text=Heart%20disease%20costs%20the%20United,year%20from%202014%20to%202015.&text=This%20includes%20the%20cost%20of,lost%20productivity%20due%20to%20death.\n",
    "\n",
    "https://www.heart.org/en/healthy-living/healthy-lifestyle/how-to-help-prevent-heart-disease-at-any-age\n",
    "\n",
    "https://www.heart.org/en/health-topics/heart-failure/what-is-heart-failure"
   ]
  },
  {
   "cell_type": "markdown",
   "metadata": {},
   "source": [
    "# Research Questions"
   ]
  },
  {
   "cell_type": "markdown",
   "metadata": {},
   "source": [
    "How can we prevent death that are caused by heart failure,  by predicting factors can increase your chance of having  deadly heart failure?\n",
    "\n",
    "The response variable that we will predict with the factors is 'death'.\n",
    "Since this phenomenon affects everybody, anyone who is looking to prevent heart failure can use the results of this study.This will help them to see how can they change their lifestyle not to be classified as 'risky', understand and be aware of the most relevant/risk factors of heart disease and predict their  overall risk and take the necessary measures. \n",
    "\n",
    "Furthermore, The results can also help the doctor to classified their patient as risky,very risky, or not risky and thus help them to decide how each patient needs to be monitored based on the results of their analysis. This can be used by doctors for the diagnostic and treatment they are going to prescribe.\n"
   ]
  },
  {
   "cell_type": "markdown",
   "metadata": {},
   "source": [
    "# Data to be Used"
   ]
  },
  {
   "cell_type": "markdown",
   "metadata": {},
   "source": [
    "In order to answer my research question I am going to used a dataset found on Kaggle(https://www.kaggle.com/andrewmvd/heart-failure-clinical-data) abour heart failure predicion, this dataset is a csv file that contains 13 attributes that can be considered as factors and predictors to heart failure.\n",
    "In order to get information from this dataset we will need to convert it into a dataframe on python."
   ]
  },
  {
   "cell_type": "markdown",
   "metadata": {},
   "source": [
    "# Approach"
   ]
  },
  {
   "cell_type": "markdown",
   "metadata": {},
   "source": [
    "After I load the data into a Dataframe, I will first perform some EDA to understand the data. I will do histograms to see the distribution of each variable, scatterplot to look at the correlations of the variables and correlation matrix in order to see which variables are highly correlated, and which variables are highly correlated with death which is the response variable  to have a first idea of what factors can make good prediction.\n",
    "After conducting EDA, I am going to prepare my data, I will first check if their is null values and replace them if there is, if I found non coherent values during my EDA I will fix that.\n",
    "After cleaning my data I will use feature selection to use the minimum number of variables to have the best performance of the models I will conduct.To do that I will use the results of my EDA such as the correlation matrix but will also use backward selection.\n",
    "The models I will use in order to answer my research question and to predict my response variable 'death' are a r,XG Boost model which is a good model to avoid overfitting,random forest model,decision tree and KNeighborsClassifier.I will compare their performance by looking at the results of metrics such as accuracy, recall, precision and f1 score. After the analyse of each model performance and their comparison, I will use the voting algorithm which is a way to combining the predictions from multiple models and thus see the performance of the ensemble model."
   ]
  },
  {
   "cell_type": "code",
   "execution_count": null,
   "metadata": {},
   "outputs": [],
   "source": []
  }
 ],
 "metadata": {
  "kernelspec": {
   "display_name": "Python 3",
   "language": "python",
   "name": "python3"
  },
  "language_info": {
   "codemirror_mode": {
    "name": "ipython",
    "version": 3
   },
   "file_extension": ".py",
   "mimetype": "text/x-python",
   "name": "python",
   "nbconvert_exporter": "python",
   "pygments_lexer": "ipython3",
   "version": "3.7.3"
  }
 },
 "nbformat": 4,
 "nbformat_minor": 2
}
